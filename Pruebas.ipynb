{
  "cells": [
    {
      "cell_type": "markdown",
      "metadata": {
        "colab_type": "text",
        "id": "view-in-github"
      },
      "source": [
        "<a href=\"https://colab.research.google.com/github/JoseSantisteban/TF-201922760-201922910-202010840/blob/main/Pruebas.ipynb\" target=\"_parent\"><img src=\"https://colab.research.google.com/assets/colab-badge.svg\" alt=\"Open In Colab\"/></a>"
      ]
    },
    {
      "cell_type": "code",
      "execution_count": 1,
      "metadata": {
        "id": "QdVz3dm6RIYE"
      },
      "outputs": [
        {
          "name": "stdout",
          "output_type": "stream",
          "text": [
            "Current Time = 00:14:11\n"
          ]
        }
      ],
      "source": [
        "#Pruebas de tiempo - criterio de factor de tráfico\n",
        "from datetime import datetime\n",
        "\n",
        "now = datetime.now()\n",
        "\n",
        "current_time = now.strftime(\"%H:%M:%S\")\n",
        "print(\"Current Time =\", current_time)"
      ]
    },
    {
      "cell_type": "code",
      "execution_count": 23,
      "metadata": {},
      "outputs": [
        {
          "name": "stdout",
          "output_type": "stream",
          "text": [
            "Requirement already satisfied: pytz in c:\\users\\jose mauricio\\appdata\\local\\programs\\python\\python310\\lib\\site-packages (2022.1)\n",
            "Note: you may need to restart the kernel to use updated packages.\n"
          ]
        }
      ],
      "source": [
        "pip install pytz"
      ]
    },
    {
      "cell_type": "code",
      "execution_count": 7,
      "metadata": {},
      "outputs": [
        {
          "name": "stdout",
          "output_type": "stream",
          "text": [
            "Current time in Lima is : 01:00:16\n"
          ]
        }
      ],
      "source": [
        "from datetime import datetime\n",
        "\n",
        "import pytz\n",
        "\n",
        "tz_IN = pytz.timezone('America/Lima') \n",
        "\n",
        "datetime_IN = datetime.now(tz_IN)\n",
        "\n",
        "print(\"Current time in Lima is :\", datetime_IN.strftime(\"%H:%M:%S\"))"
      ]
    },
    {
      "cell_type": "markdown",
      "metadata": {},
      "source": [
        "# Algo Simple"
      ]
    },
    {
      "cell_type": "code",
      "execution_count": 5,
      "metadata": {},
      "outputs": [
        {
          "name": "stdout",
          "output_type": "stream",
          "text": [
            "11:29:04\n"
          ]
        }
      ],
      "source": [
        "time_elsewhere = datetime.now(pytz.timezone('Asia/Kolkata'))\n",
        "print(time_elsewhere.strftime(\"%H:%M:%S\"))"
      ]
    },
    {
      "cell_type": "code",
      "execution_count": 13,
      "metadata": {},
      "outputs": [
        {
          "name": "stdout",
          "output_type": "stream",
          "text": [
            "5\n"
          ]
        }
      ],
      "source": [
        "time_as_now = datetime.now(pytz.timezone('America/Lima'))\n",
        "peso_calle = 0\n",
        "if time_as_now > time_elsewhere:\n",
        "    peso_calle = 5\n",
        "else:\n",
        "    peso_calle =8\n",
        "\n",
        "print(peso_calle)"
      ]
    },
    {
      "cell_type": "markdown",
      "metadata": {},
      "source": [
        "# Observaciones\n",
        "* Comparaciones entre tiempos con datetime funcionan bajo la lógica de\n",
        "* 1 am es MAYOR a 11 am\n",
        "* 11 am es MENOR a 1 am\n",
        "  \n",
        "Puede que no sea muy útil hacer esas comparaciones"
      ]
    }
  ],
  "metadata": {
    "colab": {
      "authorship_tag": "ABX9TyNatAuz33Hz5ujTlqaOsA1o",
      "include_colab_link": true,
      "name": "Pruebas.ipynb",
      "provenance": []
    },
    "interpreter": {
      "hash": "c43eb453a520588daeb01591e7dc41ed559df5ae58d97ff8c1b4560a71d0f862"
    },
    "kernelspec": {
      "display_name": "Python 3.10.4 64-bit",
      "language": "python",
      "name": "python3"
    },
    "language_info": {
      "codemirror_mode": {
        "name": "ipython",
        "version": 3
      },
      "file_extension": ".py",
      "mimetype": "text/x-python",
      "name": "python",
      "nbconvert_exporter": "python",
      "pygments_lexer": "ipython3",
      "version": "3.10.4"
    }
  },
  "nbformat": 4,
  "nbformat_minor": 0
}
