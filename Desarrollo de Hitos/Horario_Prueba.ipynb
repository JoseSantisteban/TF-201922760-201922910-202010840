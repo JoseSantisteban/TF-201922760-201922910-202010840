{
  "nbformat": 4,
  "nbformat_minor": 0,
  "metadata": {
    "colab": {
      "name": "Horario-Prueba.ipynb",
      "provenance": []
    },
    "kernelspec": {
      "name": "python3",
      "display_name": "Python 3"
    },
    "language_info": {
      "name": "python"
    }
  },
  "cells": [
    {
      "cell_type": "code",
      "execution_count": 1,
      "metadata": {
        "colab": {
          "base_uri": "https://localhost:8080/"
        },
        "id": "prhYs-VMvF8D",
        "outputId": "39e0e43e-0088-4c2a-a568-ad1bfe6ccfd2"
      },
      "outputs": [
        {
          "output_type": "stream",
          "name": "stdout",
          "text": [
            "Current time in Lima is : 23:32:54\n"
          ]
        }
      ],
      "source": [
        "from datetime import datetime\n",
        "\n",
        "import pytz\n",
        "\n",
        "tz_IN = pytz.timezone('America/Lima') \n",
        "\n",
        "datetime_IN = datetime.now(tz_IN)\n",
        "\n",
        "print(\"Current time in Lima is :\", datetime_IN.strftime(\"%H:%M:%S\"))\n"
      ]
    },
    {
      "cell_type": "code",
      "source": [
        "time_elsewhere = datetime.now(pytz.timezone('Asia/Kolkata'))\n",
        "print(time_elsewhere.strftime(\"%H:%M:%S\"))"
      ],
      "metadata": {
        "colab": {
          "base_uri": "https://localhost:8080/"
        },
        "id": "s9OglWOovILI",
        "outputId": "6170334c-d307-4f5b-985e-8018ba21af3a"
      },
      "execution_count": 2,
      "outputs": [
        {
          "output_type": "stream",
          "name": "stdout",
          "text": [
            "10:03:04\n"
          ]
        }
      ]
    },
    {
      "cell_type": "code",
      "source": [
        "time_as_now = datetime.now(pytz.timezone('America/Lima'))\n",
        "peso_calle = 0\n",
        "if time_as_now > time_elsewhere:\n",
        "    peso_calle = 5\n",
        "else:\n",
        "    peso_calle =8\n",
        "\n",
        "print(peso_calle)\n",
        "n=len(Calles1)\n",
        "Longitud =[]\n",
        "Pesos=[]\n",
        "for i in range(n):\n",
        "  Longitud.append(random.randint(100,1200))\n",
        "\n",
        "for i in range(len(Calles1)):\n",
        "  if time_as_now == \"07:00:00\" and time_as_now == \"08:30:00\" or time_as_now==\"18:30:00\" and time_as_now==\"20:00:00\":\n",
        "    Trafico=1\n",
        "    Pesos.append(Trafico * Longitud[i]) /100\n",
        "  print(Pesos)"
      ],
      "metadata": {
        "colab": {
          "base_uri": "https://localhost:8080/",
          "height": 261
        },
        "id": "mhT6PXhBvL9T",
        "outputId": "7ce8ece7-8b82-4d1f-c62f-69f1bd66d0d7"
      },
      "execution_count": 3,
      "outputs": [
        {
          "output_type": "stream",
          "name": "stdout",
          "text": [
            "5\n"
          ]
        },
        {
          "output_type": "error",
          "ename": "NameError",
          "evalue": "ignored",
          "traceback": [
            "\u001b[0;31m---------------------------------------------------------------------------\u001b[0m",
            "\u001b[0;31mNameError\u001b[0m                                 Traceback (most recent call last)",
            "\u001b[0;32m<ipython-input-3-d2d96b6456e3>\u001b[0m in \u001b[0;36m<module>\u001b[0;34m()\u001b[0m\n\u001b[1;32m      7\u001b[0m \u001b[0;34m\u001b[0m\u001b[0m\n\u001b[1;32m      8\u001b[0m \u001b[0mprint\u001b[0m\u001b[0;34m(\u001b[0m\u001b[0mpeso_calle\u001b[0m\u001b[0;34m)\u001b[0m\u001b[0;34m\u001b[0m\u001b[0;34m\u001b[0m\u001b[0m\n\u001b[0;32m----> 9\u001b[0;31m \u001b[0mn\u001b[0m\u001b[0;34m=\u001b[0m\u001b[0mlen\u001b[0m\u001b[0;34m(\u001b[0m\u001b[0mCalles1\u001b[0m\u001b[0;34m)\u001b[0m\u001b[0;34m\u001b[0m\u001b[0;34m\u001b[0m\u001b[0m\n\u001b[0m\u001b[1;32m     10\u001b[0m \u001b[0mLongitud\u001b[0m \u001b[0;34m=\u001b[0m\u001b[0;34m[\u001b[0m\u001b[0;34m]\u001b[0m\u001b[0;34m\u001b[0m\u001b[0;34m\u001b[0m\u001b[0m\n\u001b[1;32m     11\u001b[0m \u001b[0mPesos\u001b[0m\u001b[0;34m=\u001b[0m\u001b[0;34m[\u001b[0m\u001b[0;34m]\u001b[0m\u001b[0;34m\u001b[0m\u001b[0;34m\u001b[0m\u001b[0m\n",
            "\u001b[0;31mNameError\u001b[0m: name 'Calles1' is not defined"
          ]
        }
      ]
    },
    {
      "cell_type": "code",
      "source": [
        ""
      ],
      "metadata": {
        "id": "aoHjyCIdvMZv"
      },
      "execution_count": null,
      "outputs": []
    }
  ]
}