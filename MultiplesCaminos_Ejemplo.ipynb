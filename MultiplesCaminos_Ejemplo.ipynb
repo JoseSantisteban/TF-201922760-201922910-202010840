{
  "nbformat": 4,
  "nbformat_minor": 0,
  "metadata": {
    "colab": {
      "name": "MultiplesCaminos - Ejemplo.ipynb",
      "provenance": []
    },
    "kernelspec": {
      "name": "python3",
      "display_name": "Python 3"
    },
    "language_info": {
      "name": "python"
    }
  },
  "cells": [
    {
      "cell_type": "code",
      "execution_count": 2,
      "metadata": {
        "id": "LenbXHD8TyTg"
      },
      "outputs": [],
      "source": [
        "import numpy as np\n",
        "import math\n",
        "import graphviz as gv\n",
        "\n",
        "def adjlShow(L, labels=None, Dirigido=False, Peso=False, Camino=[],\n",
        "             CaminoSimple=True,\n",
        "             layout=\"sfdp\"):\n",
        "  Grafo = gv.Digraph(\"G\") if Dirigido else gv.Graph(\"G\")\n",
        "\n",
        "  n = len(L)\n",
        "  for u in range(n):\n",
        "    Grafo.node(str(u), labels[u] if labels else str(u))\n",
        "  Anadir = set()\n",
        "  Camino = enumerate(Camino) if CaminoSimple else Camino\n",
        "  for v, u in Camino:\n",
        "    if u != -1:\n",
        "      if Peso:\n",
        "        for vi, w in L[u]:\n",
        "          if vi == v:\n",
        "            break\n",
        "        Grafo.edge(str(u), str(v), str(w), dir=\"forward\", penwidth=\"2\", color=\"orange\")\n",
        "      else:\n",
        "        Grafo.edge(str(u), str(v), dir=\"forward\", penwidth=\"2\", color=\"orange\")\n",
        "      Anadir.add(f\"{u},{v}\")\n",
        "      Anadir.add(f\"{v},{u}\")\n",
        "  if Peso:\n",
        "    for u in range(n):\n",
        "      for v, w in L[u]:\n",
        "        if not Dirigido and not f\"{u},{v}\" in Anadir:\n",
        "          Anadir.add(f\"{u},{v}\")\n",
        "          Anadir.add(f\"{v},{u}\")\n",
        "          Grafo.edge(str(u), str(v), str(w))\n",
        "        elif Dirigido:\n",
        "          Grafo.edge(str(u), str(v), str(w))\n",
        "  else:\n",
        "    for u in range(n):\n",
        "      for v in L[u]:\n",
        "        if not Dirigido and not f\"{u},{v}\" in Anadir:\n",
        "          Anadir.add(f\"{u},{v}\")\n",
        "          Anadir.add(f\"{v},{u}\")\n",
        "          Grafo.edge(str(u), str(v))\n",
        "        elif Dirigido:\n",
        "          Grafo.edge(str(u), str(v))\n",
        "  return Grafo\n",
        "def floydWarshall(G):\n",
        "    n = len(G)\n",
        "    cost = np.full((n, n), math.inf)\n",
        "    path = np.full((n, n), -1, dtype=int)\n",
        "\n",
        "    for u in range(n):\n",
        "        for v, w in G[u]:\n",
        "            cost[u, v] = w\n",
        "            path[u, v] = u\n",
        "\n",
        "    for k in range(n):\n",
        "        for i in range(n):\n",
        "            for j in range(n):\n",
        "                if i != j and j != k and k != i:\n",
        "                    f = cost[i, k] + cost[k, j]\n",
        "                    if f < cost[i, j]:\n",
        "                        cost[i, j] = f\n",
        "                        path[i, j] = path[k, j]\n",
        "\n",
        "    return cost, path"
      ]
    },
    {
      "cell_type": "code",
      "source": [
        "%%file Prueba.al\n",
        "1 84 4 23\n",
        "3 62 2 34 6 85\n",
        "1 54 5 90\n",
        "2 50\n",
        "6 89\n",
        "1 14 3 91\n",
        "5 4 7 53\n",
        "6 32"
      ],
      "metadata": {
        "colab": {
          "base_uri": "https://localhost:8080/"
        },
        "id": "RTHzfdVZUN_A",
        "outputId": "cf0afd7d-94ce-491b-9921-51e199f6b5af"
      },
      "execution_count": 10,
      "outputs": [
        {
          "output_type": "stream",
          "name": "stdout",
          "text": [
            "Overwriting Prueba.al\n"
          ]
        }
      ]
    },
    {
      "cell_type": "code",
      "source": [
        "with open(\"Prueba.al\") as f:\n",
        "  G = []\n",
        "  for line in f:\n",
        "    if line == '-\\n':\n",
        "      G.append([])\n",
        "    else:\n",
        "      nums = [int(x) for x in line.split()]\n",
        "      G.append([(nums[i], nums[i+1]) for i in range(0, len(nums), 2)])\n",
        "\n",
        "  for x in G:\n",
        "    print(x)"
      ],
      "metadata": {
        "colab": {
          "base_uri": "https://localhost:8080/"
        },
        "id": "5dX9s3aYUoo8",
        "outputId": "938265fe-465d-4f1f-aae4-c48ca720abef"
      },
      "execution_count": 11,
      "outputs": [
        {
          "output_type": "stream",
          "name": "stdout",
          "text": [
            "[(1, 84), (4, 23)]\n",
            "[(3, 62), (2, 34), (6, 85)]\n",
            "[(1, 54), (5, 90)]\n",
            "[(2, 50)]\n",
            "[(6, 89)]\n",
            "[(1, 14), (3, 91)]\n",
            "[(5, 4), (7, 53)]\n",
            "[(6, 32)]\n"
          ]
        }
      ]
    },
    {
      "cell_type": "code",
      "source": [
        "adjlShow(G, Peso=True, layout=\"neato\")\n"
      ],
      "metadata": {
        "colab": {
          "base_uri": "https://localhost:8080/",
          "height": 543
        },
        "id": "atNzXv65U-82",
        "outputId": "ba1b6724-4927-4119-e3aa-8e360b35cbb2"
      },
      "execution_count": 12,
      "outputs": [
        {
          "output_type": "execute_result",
          "data": {
            "text/plain": [
              "<graphviz.dot.Graph at 0x7f1a2a0ea510>"
            ],
            "image/svg+xml": "<?xml version=\"1.0\" encoding=\"UTF-8\" standalone=\"no\"?>\n<!DOCTYPE svg PUBLIC \"-//W3C//DTD SVG 1.1//EN\"\n \"http://www.w3.org/Graphics/SVG/1.1/DTD/svg11.dtd\">\n<!-- Generated by graphviz version 2.40.1 (20161225.0304)\n -->\n<!-- Title: G Pages: 1 -->\n<svg width=\"218pt\" height=\"392pt\"\n viewBox=\"0.00 0.00 218.33 392.00\" xmlns=\"http://www.w3.org/2000/svg\" xmlns:xlink=\"http://www.w3.org/1999/xlink\">\n<g id=\"graph0\" class=\"graph\" transform=\"scale(1 1) rotate(0) translate(4 388)\">\n<title>G</title>\n<polygon fill=\"#ffffff\" stroke=\"transparent\" points=\"-4,4 -4,-388 214.3313,-388 214.3313,4 -4,4\"/>\n<!-- 0 -->\n<g id=\"node1\" class=\"node\">\n<title>0</title>\n<ellipse fill=\"none\" stroke=\"#000000\" cx=\"146.3313\" cy=\"-366\" rx=\"27\" ry=\"18\"/>\n<text text-anchor=\"middle\" x=\"146.3313\" y=\"-362.3\" font-family=\"Times,serif\" font-size=\"14.00\" fill=\"#000000\">0</text>\n</g>\n<!-- 1 -->\n<g id=\"node2\" class=\"node\">\n<title>1</title>\n<ellipse fill=\"none\" stroke=\"#000000\" cx=\"111.3313\" cy=\"-279\" rx=\"27\" ry=\"18\"/>\n<text text-anchor=\"middle\" x=\"111.3313\" y=\"-275.3\" font-family=\"Times,serif\" font-size=\"14.00\" fill=\"#000000\">1</text>\n</g>\n<!-- 0&#45;&#45;1 -->\n<g id=\"edge1\" class=\"edge\">\n<title>0&#45;&#45;1</title>\n<path fill=\"none\" stroke=\"#000000\" d=\"M139.2485,-348.3943C133.1762,-333.3001 124.4728,-311.6661 118.4035,-296.5796\"/>\n<text text-anchor=\"middle\" x=\"139.3313\" y=\"-318.8\" font-family=\"Times,serif\" font-size=\"14.00\" fill=\"#000000\">84</text>\n</g>\n<!-- 4 -->\n<g id=\"node5\" class=\"node\">\n<title>4</title>\n<ellipse fill=\"none\" stroke=\"#000000\" cx=\"183.3313\" cy=\"-279\" rx=\"27\" ry=\"18\"/>\n<text text-anchor=\"middle\" x=\"183.3313\" y=\"-275.3\" font-family=\"Times,serif\" font-size=\"14.00\" fill=\"#000000\">4</text>\n</g>\n<!-- 0&#45;&#45;4 -->\n<g id=\"edge2\" class=\"edge\">\n<title>0&#45;&#45;4</title>\n<path fill=\"none\" stroke=\"#000000\" d=\"M153.8188,-348.3943C160.2381,-333.3001 169.4388,-311.6661 175.8549,-296.5796\"/>\n<text text-anchor=\"middle\" x=\"174.3313\" y=\"-318.8\" font-family=\"Times,serif\" font-size=\"14.00\" fill=\"#000000\">23</text>\n</g>\n<!-- 2 -->\n<g id=\"node3\" class=\"node\">\n<title>2</title>\n<ellipse fill=\"none\" stroke=\"#000000\" cx=\"48.3313\" cy=\"-192\" rx=\"27\" ry=\"18\"/>\n<text text-anchor=\"middle\" x=\"48.3313\" y=\"-188.3\" font-family=\"Times,serif\" font-size=\"14.00\" fill=\"#000000\">2</text>\n</g>\n<!-- 1&#45;&#45;2 -->\n<g id=\"edge4\" class=\"edge\">\n<title>1&#45;&#45;2</title>\n<path fill=\"none\" stroke=\"#000000\" d=\"M97.4666,-263.2036C92.2386,-257.0333 86.347,-249.8142 81.3313,-243 73.2042,-231.9587 64.8213,-218.9796 58.5382,-208.8781\"/>\n<text text-anchor=\"middle\" x=\"89.3313\" y=\"-231.8\" font-family=\"Times,serif\" font-size=\"14.00\" fill=\"#000000\">34</text>\n</g>\n<!-- 3 -->\n<g id=\"node4\" class=\"node\">\n<title>3</title>\n<ellipse fill=\"none\" stroke=\"#000000\" cx=\"44.3313\" cy=\"-18\" rx=\"27\" ry=\"18\"/>\n<text text-anchor=\"middle\" x=\"44.3313\" y=\"-14.3\" font-family=\"Times,serif\" font-size=\"14.00\" fill=\"#000000\">3</text>\n</g>\n<!-- 1&#45;&#45;3 -->\n<g id=\"edge3\" class=\"edge\">\n<title>1&#45;&#45;3</title>\n<path fill=\"none\" stroke=\"#000000\" d=\"M87.4421,-270.0926C63.5087,-259.7267 28.0354,-240.0875 12.3313,-210 -18.3163,-151.2826 16.723,-69.9293 34.8312,-35.0204\"/>\n<text text-anchor=\"middle\" x=\"9.3313\" y=\"-144.8\" font-family=\"Times,serif\" font-size=\"14.00\" fill=\"#000000\">62</text>\n</g>\n<!-- 6 -->\n<g id=\"node7\" class=\"node\">\n<title>6</title>\n<ellipse fill=\"none\" stroke=\"#000000\" cx=\"175.3313\" cy=\"-192\" rx=\"27\" ry=\"18\"/>\n<text text-anchor=\"middle\" x=\"175.3313\" y=\"-188.3\" font-family=\"Times,serif\" font-size=\"14.00\" fill=\"#000000\">6</text>\n</g>\n<!-- 1&#45;&#45;6 -->\n<g id=\"edge5\" class=\"edge\">\n<title>1&#45;&#45;6</title>\n<path fill=\"none\" stroke=\"#000000\" d=\"M123.3692,-262.636C134.8114,-247.0817 151.923,-223.8206 163.3473,-208.2907\"/>\n<text text-anchor=\"middle\" x=\"154.3313\" y=\"-231.8\" font-family=\"Times,serif\" font-size=\"14.00\" fill=\"#000000\">85</text>\n</g>\n<!-- 5 -->\n<g id=\"node6\" class=\"node\">\n<title>5</title>\n<ellipse fill=\"none\" stroke=\"#000000\" cx=\"105.3313\" cy=\"-105\" rx=\"27\" ry=\"18\"/>\n<text text-anchor=\"middle\" x=\"105.3313\" y=\"-101.3\" font-family=\"Times,serif\" font-size=\"14.00\" fill=\"#000000\">5</text>\n</g>\n<!-- 2&#45;&#45;5 -->\n<g id=\"edge6\" class=\"edge\">\n<title>2&#45;&#45;5</title>\n<path fill=\"none\" stroke=\"#000000\" d=\"M58.9747,-175.4255C65.4125,-165.4316 73.8047,-152.4591 81.3313,-141 85.5375,-134.596 90.202,-127.5802 94.2917,-121.4566\"/>\n<text text-anchor=\"middle\" x=\"89.3313\" y=\"-144.8\" font-family=\"Times,serif\" font-size=\"14.00\" fill=\"#000000\">90</text>\n</g>\n<!-- 3&#45;&#45;2 -->\n<g id=\"edge7\" class=\"edge\">\n<title>3&#45;&#45;2</title>\n<path fill=\"none\" stroke=\"#000000\" d=\"M44.7461,-36.0471C45.5122,-69.3695 47.1405,-140.2024 47.9108,-173.7078\"/>\n<text text-anchor=\"middle\" x=\"55.3313\" y=\"-101.3\" font-family=\"Times,serif\" font-size=\"14.00\" fill=\"#000000\">50</text>\n</g>\n<!-- 4&#45;&#45;6 -->\n<g id=\"edge8\" class=\"edge\">\n<title>4&#45;&#45;6</title>\n<path fill=\"none\" stroke=\"#000000\" d=\"M181.6737,-260.9735C180.3007,-246.0422 178.3592,-224.9283 176.9868,-210.0034\"/>\n<text text-anchor=\"middle\" x=\"187.3313\" y=\"-231.8\" font-family=\"Times,serif\" font-size=\"14.00\" fill=\"#000000\">89</text>\n</g>\n<!-- 5&#45;&#45;1 -->\n<g id=\"edge9\" class=\"edge\">\n<title>5&#45;&#45;1</title>\n<path fill=\"none\" stroke=\"#000000\" d=\"M105.9536,-123.0471C107.1026,-156.3695 109.5452,-227.2024 110.7005,-260.7078\"/>\n<text text-anchor=\"middle\" x=\"117.3313\" y=\"-188.3\" font-family=\"Times,serif\" font-size=\"14.00\" fill=\"#000000\">14</text>\n</g>\n<!-- 5&#45;&#45;3 -->\n<g id=\"edge10\" class=\"edge\">\n<title>5&#45;&#45;3</title>\n<path fill=\"none\" stroke=\"#000000\" d=\"M93.8576,-88.636C83.0208,-73.1802 66.8485,-50.1147 55.9609,-34.5865\"/>\n<text text-anchor=\"middle\" x=\"87.3313\" y=\"-57.8\" font-family=\"Times,serif\" font-size=\"14.00\" fill=\"#000000\">91</text>\n</g>\n<!-- 6&#45;&#45;5 -->\n<g id=\"edge11\" class=\"edge\">\n<title>6&#45;&#45;5</title>\n<path fill=\"none\" stroke=\"#000000\" d=\"M162.4922,-176.0429C149.9409,-160.4434 130.9304,-136.8161 118.326,-121.1506\"/>\n<text text-anchor=\"middle\" x=\"148.3313\" y=\"-144.8\" font-family=\"Times,serif\" font-size=\"14.00\" fill=\"#000000\">4</text>\n</g>\n<!-- 7 -->\n<g id=\"node8\" class=\"node\">\n<title>7</title>\n<ellipse fill=\"none\" stroke=\"#000000\" cx=\"177.3313\" cy=\"-105\" rx=\"27\" ry=\"18\"/>\n<text text-anchor=\"middle\" x=\"177.3313\" y=\"-101.3\" font-family=\"Times,serif\" font-size=\"14.00\" fill=\"#000000\">7</text>\n</g>\n<!-- 6&#45;&#45;7 -->\n<g id=\"edge12\" class=\"edge\">\n<title>6&#45;&#45;7</title>\n<path fill=\"none\" stroke=\"#000000\" d=\"M175.7457,-173.9735C176.0889,-159.0422 176.5743,-137.9283 176.9174,-123.0034\"/>\n<text text-anchor=\"middle\" x=\"184.3313\" y=\"-144.8\" font-family=\"Times,serif\" font-size=\"14.00\" fill=\"#000000\">53</text>\n</g>\n</g>\n</svg>\n"
          },
          "metadata": {},
          "execution_count": 12
        }
      ]
    },
    {
      "cell_type": "code",
      "source": [
        "Costo, Camino = floydWarshall(G)\n",
        "print(Costo)\n",
        "print(Camino)"
      ],
      "metadata": {
        "colab": {
          "base_uri": "https://localhost:8080/"
        },
        "id": "VnoYMhQ0VEc5",
        "outputId": "f72a1f7d-fc84-435f-f934-082706a94297"
      },
      "execution_count": 20,
      "outputs": [
        {
          "output_type": "stream",
          "name": "stdout",
          "text": [
            "[[ inf  84. 118. 146.  23. 116. 112. 165.]\n",
            " [ inf  inf  34.  62.  inf  89.  85. 138.]\n",
            " [ inf  54.  inf 116.  inf  90. 139. 192.]\n",
            " [ inf 104.  50.  inf  inf 140. 189. 242.]\n",
            " [ inf 107. 141. 169.  inf  93.  89. 142.]\n",
            " [ inf  14.  48.  76.  inf  inf  99. 152.]\n",
            " [ inf  18.  52.  80.  inf   4.  inf  53.]\n",
            " [ inf  50.  84. 112.  inf  36.  32.  inf]]\n",
            "[[-1  0  1  1  0  6  4  6]\n",
            " [-1 -1  1  1 -1  6  1  6]\n",
            " [-1  2 -1  1 -1  2  1  6]\n",
            " [-1  2  3 -1 -1  2  1  6]\n",
            " [-1  5  1  1 -1  6  4  6]\n",
            " [-1  5  1  1 -1 -1  1  6]\n",
            " [-1  5  1  1 -1  6 -1  6]\n",
            " [-1  5  1  1 -1  6  7 -1]]\n"
          ]
        }
      ]
    },
    {
      "cell_type": "code",
      "source": [
        "adjlShow(G, Peso=True, Camino=Camino[0], layout=\"neato\")\n"
      ],
      "metadata": {
        "colab": {
          "base_uri": "https://localhost:8080/",
          "height": 543
        },
        "id": "vbx-ACuvVJ0m",
        "outputId": "3c4680bb-e070-4542-9f38-0355361e03fb"
      },
      "execution_count": 25,
      "outputs": [
        {
          "output_type": "execute_result",
          "data": {
            "text/plain": [
              "<graphviz.dot.Graph at 0x7f1a2a049e90>"
            ],
            "image/svg+xml": "<?xml version=\"1.0\" encoding=\"UTF-8\" standalone=\"no\"?>\n<!DOCTYPE svg PUBLIC \"-//W3C//DTD SVG 1.1//EN\"\n \"http://www.w3.org/Graphics/SVG/1.1/DTD/svg11.dtd\">\n<!-- Generated by graphviz version 2.40.1 (20161225.0304)\n -->\n<!-- Title: G Pages: 1 -->\n<svg width=\"218pt\" height=\"392pt\"\n viewBox=\"0.00 0.00 218.28 392.00\" xmlns=\"http://www.w3.org/2000/svg\" xmlns:xlink=\"http://www.w3.org/1999/xlink\">\n<g id=\"graph0\" class=\"graph\" transform=\"scale(1 1) rotate(0) translate(4 388)\">\n<title>G</title>\n<polygon fill=\"#ffffff\" stroke=\"transparent\" points=\"-4,4 -4,-388 214.2826,-388 214.2826,4 -4,4\"/>\n<!-- 0 -->\n<g id=\"node1\" class=\"node\">\n<title>0</title>\n<ellipse fill=\"none\" stroke=\"#000000\" cx=\"146.2826\" cy=\"-366\" rx=\"27\" ry=\"18\"/>\n<text text-anchor=\"middle\" x=\"146.2826\" y=\"-362.3\" font-family=\"Times,serif\" font-size=\"14.00\" fill=\"#000000\">0</text>\n</g>\n<!-- 1 -->\n<g id=\"node2\" class=\"node\">\n<title>1</title>\n<ellipse fill=\"none\" stroke=\"#000000\" cx=\"111.2826\" cy=\"-279\" rx=\"27\" ry=\"18\"/>\n<text text-anchor=\"middle\" x=\"111.2826\" y=\"-275.3\" font-family=\"Times,serif\" font-size=\"14.00\" fill=\"#000000\">1</text>\n</g>\n<!-- 0&#45;&#45;1 -->\n<g id=\"edge1\" class=\"edge\">\n<title>0&#45;&#45;1</title>\n<path fill=\"none\" stroke=\"#ffa500\" stroke-width=\"2\" d=\"M139.1998,-348.3943C134.3135,-336.2482 127.7235,-319.8674 122.1733,-306.0711\"/>\n<polygon fill=\"#ffa500\" stroke=\"#ffa500\" stroke-width=\"2\" points=\"125.3343,-304.5506 118.3548,-296.5796 118.8401,-307.1633 125.3343,-304.5506\"/>\n<text text-anchor=\"middle\" x=\"139.2826\" y=\"-318.8\" font-family=\"Times,serif\" font-size=\"14.00\" fill=\"#000000\">84</text>\n</g>\n<!-- 4 -->\n<g id=\"node5\" class=\"node\">\n<title>4</title>\n<ellipse fill=\"none\" stroke=\"#000000\" cx=\"183.2826\" cy=\"-279\" rx=\"27\" ry=\"18\"/>\n<text text-anchor=\"middle\" x=\"183.2826\" y=\"-275.3\" font-family=\"Times,serif\" font-size=\"14.00\" fill=\"#000000\">4</text>\n</g>\n<!-- 0&#45;&#45;4 -->\n<g id=\"edge4\" class=\"edge\">\n<title>0&#45;&#45;4</title>\n<path fill=\"none\" stroke=\"#ffa500\" stroke-width=\"2\" d=\"M153.7701,-348.3943C158.9356,-336.2482 165.9022,-319.8674 171.7696,-306.0711\"/>\n<polygon fill=\"#ffa500\" stroke=\"#ffa500\" stroke-width=\"2\" points=\"175.1133,-307.1517 175.8062,-296.5796 168.6717,-304.4121 175.1133,-307.1517\"/>\n<text text-anchor=\"middle\" x=\"174.2826\" y=\"-318.8\" font-family=\"Times,serif\" font-size=\"14.00\" fill=\"#000000\">23</text>\n</g>\n<!-- 2 -->\n<g id=\"node3\" class=\"node\">\n<title>2</title>\n<ellipse fill=\"none\" stroke=\"#000000\" cx=\"48.2826\" cy=\"-192\" rx=\"27\" ry=\"18\"/>\n<text text-anchor=\"middle\" x=\"48.2826\" y=\"-188.3\" font-family=\"Times,serif\" font-size=\"14.00\" fill=\"#000000\">2</text>\n</g>\n<!-- 1&#45;&#45;2 -->\n<g id=\"edge2\" class=\"edge\">\n<title>1&#45;&#45;2</title>\n<path fill=\"none\" stroke=\"#ffa500\" stroke-width=\"2\" d=\"M97.4179,-263.2036C92.1899,-257.0333 86.2983,-249.8142 81.2826,-243 75.3142,-234.8915 69.208,-225.738 63.8967,-217.4466\"/>\n<polygon fill=\"#ffa500\" stroke=\"#ffa500\" stroke-width=\"2\" points=\"66.7863,-215.4672 58.4896,-208.8781 60.8664,-219.2029 66.7863,-215.4672\"/>\n<text text-anchor=\"middle\" x=\"89.2826\" y=\"-231.8\" font-family=\"Times,serif\" font-size=\"14.00\" fill=\"#000000\">34</text>\n</g>\n<!-- 3 -->\n<g id=\"node4\" class=\"node\">\n<title>3</title>\n<ellipse fill=\"none\" stroke=\"#000000\" cx=\"44.2826\" cy=\"-18\" rx=\"27\" ry=\"18\"/>\n<text text-anchor=\"middle\" x=\"44.2826\" y=\"-14.3\" font-family=\"Times,serif\" font-size=\"14.00\" fill=\"#000000\">3</text>\n</g>\n<!-- 1&#45;&#45;3 -->\n<g id=\"edge3\" class=\"edge\">\n<title>1&#45;&#45;3</title>\n<path fill=\"none\" stroke=\"#ffa500\" stroke-width=\"2\" d=\"M87.3934,-270.0926C63.4601,-259.7267 27.9868,-240.0875 12.2826,-210 -15.9707,-155.8699 11.6004,-82.5026 30.2678,-44.0197\"/>\n<polygon fill=\"#ffa500\" stroke=\"#ffa500\" stroke-width=\"2\" points=\"33.4268,-45.5282 34.7826,-35.0204 27.17,-42.3892 33.4268,-45.5282\"/>\n<text text-anchor=\"middle\" x=\"9.2826\" y=\"-144.8\" font-family=\"Times,serif\" font-size=\"14.00\" fill=\"#000000\">62</text>\n</g>\n<!-- 6 -->\n<g id=\"node7\" class=\"node\">\n<title>6</title>\n<ellipse fill=\"none\" stroke=\"#000000\" cx=\"175.2826\" cy=\"-192\" rx=\"27\" ry=\"18\"/>\n<text text-anchor=\"middle\" x=\"175.2826\" y=\"-188.3\" font-family=\"Times,serif\" font-size=\"14.00\" fill=\"#000000\">6</text>\n</g>\n<!-- 1&#45;&#45;6 -->\n<g id=\"edge8\" class=\"edge\">\n<title>1&#45;&#45;6</title>\n<path fill=\"none\" stroke=\"#000000\" d=\"M123.3205,-262.636C134.7627,-247.0817 151.8743,-223.8206 163.2987,-208.2907\"/>\n<text text-anchor=\"middle\" x=\"154.2826\" y=\"-231.8\" font-family=\"Times,serif\" font-size=\"14.00\" fill=\"#000000\">85</text>\n</g>\n<!-- 5 -->\n<g id=\"node6\" class=\"node\">\n<title>5</title>\n<ellipse fill=\"none\" stroke=\"#000000\" cx=\"105.2826\" cy=\"-105\" rx=\"27\" ry=\"18\"/>\n<text text-anchor=\"middle\" x=\"105.2826\" y=\"-101.3\" font-family=\"Times,serif\" font-size=\"14.00\" fill=\"#000000\">5</text>\n</g>\n<!-- 2&#45;&#45;5 -->\n<g id=\"edge9\" class=\"edge\">\n<title>2&#45;&#45;5</title>\n<path fill=\"none\" stroke=\"#000000\" d=\"M58.926,-175.4255C65.3638,-165.4316 73.756,-152.4591 81.2826,-141 85.4888,-134.596 90.1533,-127.5802 94.2431,-121.4566\"/>\n<text text-anchor=\"middle\" x=\"89.2826\" y=\"-144.8\" font-family=\"Times,serif\" font-size=\"14.00\" fill=\"#000000\">90</text>\n</g>\n<!-- 3&#45;&#45;2 -->\n<g id=\"edge10\" class=\"edge\">\n<title>3&#45;&#45;2</title>\n<path fill=\"none\" stroke=\"#000000\" d=\"M44.6975,-36.0471C45.4635,-69.3695 47.0918,-140.2024 47.8621,-173.7078\"/>\n<text text-anchor=\"middle\" x=\"55.2826\" y=\"-101.3\" font-family=\"Times,serif\" font-size=\"14.00\" fill=\"#000000\">50</text>\n</g>\n<!-- 4&#45;&#45;6 -->\n<g id=\"edge6\" class=\"edge\">\n<title>4&#45;&#45;6</title>\n<path fill=\"none\" stroke=\"#ffa500\" stroke-width=\"2\" d=\"M181.625,-260.9735C180.5416,-249.1918 179.1043,-233.5607 177.8718,-220.1581\"/>\n<polygon fill=\"#ffa500\" stroke=\"#ffa500\" stroke-width=\"2\" points=\"181.3391,-219.6408 176.9381,-210.0034 174.3685,-220.2819 181.3391,-219.6408\"/>\n<text text-anchor=\"middle\" x=\"187.2826\" y=\"-231.8\" font-family=\"Times,serif\" font-size=\"14.00\" fill=\"#000000\">89</text>\n</g>\n<!-- 5&#45;&#45;1 -->\n<g id=\"edge11\" class=\"edge\">\n<title>5&#45;&#45;1</title>\n<path fill=\"none\" stroke=\"#000000\" d=\"M105.9049,-123.0471C107.0539,-156.3695 109.4965,-227.2024 110.6518,-260.7078\"/>\n<text text-anchor=\"middle\" x=\"117.2826\" y=\"-188.3\" font-family=\"Times,serif\" font-size=\"14.00\" fill=\"#000000\">14</text>\n</g>\n<!-- 5&#45;&#45;3 -->\n<g id=\"edge12\" class=\"edge\">\n<title>5&#45;&#45;3</title>\n<path fill=\"none\" stroke=\"#000000\" d=\"M93.809,-88.636C82.9721,-73.1802 66.7998,-50.1147 55.9122,-34.5865\"/>\n<text text-anchor=\"middle\" x=\"87.2826\" y=\"-57.8\" font-family=\"Times,serif\" font-size=\"14.00\" fill=\"#000000\">91</text>\n</g>\n<!-- 6&#45;&#45;5 -->\n<g id=\"edge5\" class=\"edge\">\n<title>6&#45;&#45;5</title>\n<path fill=\"none\" stroke=\"#ffa500\" stroke-width=\"2\" d=\"M162.4435,-176.0429C151.8533,-162.8808 136.6648,-144.0036 124.6058,-129.0159\"/>\n<polygon fill=\"#ffa500\" stroke=\"#ffa500\" stroke-width=\"2\" points=\"127.2731,-126.7477 118.2773,-121.1506 121.8192,-131.1359 127.2731,-126.7477\"/>\n<text text-anchor=\"middle\" x=\"148.2826\" y=\"-144.8\" font-family=\"Times,serif\" font-size=\"14.00\" fill=\"#000000\">4</text>\n</g>\n<!-- 7 -->\n<g id=\"node8\" class=\"node\">\n<title>7</title>\n<ellipse fill=\"none\" stroke=\"#000000\" cx=\"177.2826\" cy=\"-105\" rx=\"27\" ry=\"18\"/>\n<text text-anchor=\"middle\" x=\"177.2826\" y=\"-101.3\" font-family=\"Times,serif\" font-size=\"14.00\" fill=\"#000000\">7</text>\n</g>\n<!-- 6&#45;&#45;7 -->\n<g id=\"edge7\" class=\"edge\">\n<title>6&#45;&#45;7</title>\n<path fill=\"none\" stroke=\"#ffa500\" stroke-width=\"2\" d=\"M175.697,-173.9735C175.9678,-162.1918 176.3272,-146.5607 176.6353,-133.1581\"/>\n<polygon fill=\"#ffa500\" stroke=\"#ffa500\" stroke-width=\"2\" points=\"180.1379,-133.0812 176.8687,-123.0034 173.1397,-132.9202 180.1379,-133.0812\"/>\n<text text-anchor=\"middle\" x=\"184.2826\" y=\"-144.8\" font-family=\"Times,serif\" font-size=\"14.00\" fill=\"#000000\">53</text>\n</g>\n</g>\n</svg>\n"
          },
          "metadata": {},
          "execution_count": 25
        }
      ]
    },
    {
      "cell_type": "code",
      "source": [
        ""
      ],
      "metadata": {
        "id": "tIkQR0xfVjBC"
      },
      "execution_count": null,
      "outputs": []
    }
  ]
}