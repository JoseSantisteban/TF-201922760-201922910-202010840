{
  "nbformat": 4,
  "nbformat_minor": 0,
  "metadata": {
    "colab": {
      "name": "CaminoSimple-Ejemplo.ipynb",
      "provenance": []
    },
    "kernelspec": {
      "name": "python3",
      "display_name": "Python 3"
    },
    "language_info": {
      "name": "python"
    }
  },
  "cells": [
    {
      "cell_type": "code",
      "source": [
        "import heapq as hq\n",
        "import numpy as np\n",
        "import graphviz as gv\n",
        "import math\n",
        "\n",
        "def drawG_al(G, directed=False, Peso=False, Camino=[], layout=\"sfdp\"):\n",
        "  Grafo = gv.Digraph(\"felicidad\") if directed else gv.Graph(\"alegria\")\n",
        "  n = len(G)\n",
        "  Anadir = set()\n",
        "  for v, u in enumerate(Camino):\n",
        "    if u != -1:\n",
        "      if Peso:\n",
        "        for vi, w in G[u]:\n",
        "          if vi == v:\n",
        "            break\n",
        "        Grafo.edge(str(u), str(v), str(w), dir=\"forward\", penwidth=\"2\", color=\"orange\")\n",
        "      else:\n",
        "        Grafo.edge(str(u), str(v), dir=\"forward\", penwidth=\"2\", color=\"orange\")\n",
        "      Anadir.add(f\"{u},{v}\")\n",
        "      Anadir.add(f\"{v},{u}\")\n",
        "  for u in range(n):\n",
        "    for v, w in G[u]:\n",
        "      Dbujar = False\n",
        "      if not directed and not f\"{u},{v}\" in Anadir:  \n",
        "        Anadir.add(f\"{u},{v}\")\n",
        "        Anadir.add(f\"{v},{u}\")\n",
        "        Dbujar = True\n",
        "      elif directed:\n",
        "        Dbujar = True\n",
        "      if Dbujar:\n",
        "        if Peso:\n",
        "          Grafo.edge(str(u), str(v), str(w))\n",
        "        else:\n",
        "          Grafo.edge(str(u), str(v))\n",
        "  return Grafo\n",
        "def dijkstra(G, s):\n",
        "  n = len(G)\n",
        "  Visitado = [False]*n\n",
        "  Camino = [-1]*n\n",
        "  Costo = [math.inf]*n\n",
        "\n",
        "  Costo[s] = 0\n",
        "  Cola = [(0, s)]\n",
        "  while Cola:\n",
        "    g, u = hq.heappop(Cola)\n",
        "    if not Visitado[u]:\n",
        "      Visitado[u] = True\n",
        "      for v, w in G[u]:\n",
        "        if not Visitado[v]:\n",
        "          f = g + w\n",
        "          if f < Costo[v]:\n",
        "            Costo[v] = f\n",
        "            Camino[v] = u\n",
        "            hq.heappush(Cola, (f, v))\n",
        "\n",
        "  return Camino, Costo"
      ],
      "metadata": {
        "id": "pOupxlHkWdMV"
      },
      "execution_count": 15,
      "outputs": []
    },
    {
      "cell_type": "code",
      "source": [
        "%%file Prueba.al\n",
        "1 84 4 23\n",
        "3 62 2 34 6 85\n",
        "1 54 5 90\n",
        "2 50\n",
        "6 89\n",
        "1 14 3 91\n",
        "5 4 7 53\n",
        "6 32"
      ],
      "metadata": {
        "colab": {
          "base_uri": "https://localhost:8080/"
        },
        "id": "ydfAjrb6WWuB",
        "outputId": "56cfbd56-3fbc-4fd0-c8ad-d3bfff9d3a37"
      },
      "execution_count": 2,
      "outputs": [
        {
          "output_type": "stream",
          "name": "stdout",
          "text": [
            "Writing Prueba.al\n"
          ]
        }
      ]
    },
    {
      "cell_type": "code",
      "source": [
        "with open(\"Prueba.al\") as f:\n",
        "  G = []\n",
        "  for line in f:\n",
        "    nums = [int(x) for x in line.split()]\n",
        "    G.append([])\n",
        "    for i in range(0, len(nums), 2):\n",
        "      G[-1].append((nums[i], nums[i+1]))\n",
        "\n",
        "for x in G:\n",
        "  print(x)"
      ],
      "metadata": {
        "colab": {
          "base_uri": "https://localhost:8080/"
        },
        "id": "gkNbwlq6WU9a",
        "outputId": "e539393d-b26d-4855-9c61-af56fd11a79e"
      },
      "execution_count": 3,
      "outputs": [
        {
          "output_type": "stream",
          "name": "stdout",
          "text": [
            "[(1, 84), (4, 23)]\n",
            "[(3, 62), (2, 34), (6, 85)]\n",
            "[(1, 54), (5, 90)]\n",
            "[(2, 50)]\n",
            "[(6, 89)]\n",
            "[(1, 14), (3, 91)]\n",
            "[(5, 4), (7, 53)]\n",
            "[(6, 32)]\n"
          ]
        }
      ]
    },
    {
      "cell_type": "code",
      "source": [
        "drawG_al(G, Peso=True)\n"
      ],
      "metadata": {
        "colab": {
          "base_uri": "https://localhost:8080/",
          "height": 543
        },
        "id": "NsToyojQWl6q",
        "outputId": "2759b960-395a-4273-d97b-4d94c6987b57"
      },
      "execution_count": 13,
      "outputs": [
        {
          "output_type": "execute_result",
          "data": {
            "text/plain": [
              "<graphviz.dot.Graph at 0x7fa1bee54790>"
            ],
            "image/svg+xml": "<?xml version=\"1.0\" encoding=\"UTF-8\" standalone=\"no\"?>\n<!DOCTYPE svg PUBLIC \"-//W3C//DTD SVG 1.1//EN\"\n \"http://www.w3.org/Graphics/SVG/1.1/DTD/svg11.dtd\">\n<!-- Generated by graphviz version 2.40.1 (20161225.0304)\n -->\n<!-- Title: alegria Pages: 1 -->\n<svg width=\"247pt\" height=\"392pt\"\n viewBox=\"0.00 0.00 246.64 392.00\" xmlns=\"http://www.w3.org/2000/svg\" xmlns:xlink=\"http://www.w3.org/1999/xlink\">\n<g id=\"graph0\" class=\"graph\" transform=\"scale(1 1) rotate(0) translate(4 388)\">\n<title>alegria</title>\n<polygon fill=\"#ffffff\" stroke=\"transparent\" points=\"-4,4 -4,-388 242.6364,-388 242.6364,4 -4,4\"/>\n<!-- 0 -->\n<g id=\"node1\" class=\"node\">\n<title>0</title>\n<ellipse fill=\"none\" stroke=\"#000000\" cx=\"80.6364\" cy=\"-366\" rx=\"27\" ry=\"18\"/>\n<text text-anchor=\"middle\" x=\"80.6364\" y=\"-362.3\" font-family=\"Times,serif\" font-size=\"14.00\" fill=\"#000000\">0</text>\n</g>\n<!-- 1 -->\n<g id=\"node2\" class=\"node\">\n<title>1</title>\n<ellipse fill=\"none\" stroke=\"#000000\" cx=\"117.6364\" cy=\"-279\" rx=\"27\" ry=\"18\"/>\n<text text-anchor=\"middle\" x=\"117.6364\" y=\"-275.3\" font-family=\"Times,serif\" font-size=\"14.00\" fill=\"#000000\">1</text>\n</g>\n<!-- 0&#45;&#45;1 -->\n<g id=\"edge1\" class=\"edge\">\n<title>0&#45;&#45;1</title>\n<path fill=\"none\" stroke=\"#000000\" d=\"M88.1239,-348.3943C94.5432,-333.3001 103.7439,-311.6661 110.16,-296.5796\"/>\n<text text-anchor=\"middle\" x=\"108.6364\" y=\"-318.8\" font-family=\"Times,serif\" font-size=\"14.00\" fill=\"#000000\">84</text>\n</g>\n<!-- 4 -->\n<g id=\"node3\" class=\"node\">\n<title>4</title>\n<ellipse fill=\"none\" stroke=\"#000000\" cx=\"45.6364\" cy=\"-279\" rx=\"27\" ry=\"18\"/>\n<text text-anchor=\"middle\" x=\"45.6364\" y=\"-275.3\" font-family=\"Times,serif\" font-size=\"14.00\" fill=\"#000000\">4</text>\n</g>\n<!-- 0&#45;&#45;4 -->\n<g id=\"edge2\" class=\"edge\">\n<title>0&#45;&#45;4</title>\n<path fill=\"none\" stroke=\"#000000\" d=\"M73.5536,-348.3943C67.4813,-333.3001 58.7779,-311.6661 52.7086,-296.5796\"/>\n<text text-anchor=\"middle\" x=\"72.6364\" y=\"-318.8\" font-family=\"Times,serif\" font-size=\"14.00\" fill=\"#000000\">23</text>\n</g>\n<!-- 3 -->\n<g id=\"node4\" class=\"node\">\n<title>3</title>\n<ellipse fill=\"none\" stroke=\"#000000\" cx=\"176.6364\" cy=\"-192\" rx=\"27\" ry=\"18\"/>\n<text text-anchor=\"middle\" x=\"176.6364\" y=\"-188.3\" font-family=\"Times,serif\" font-size=\"14.00\" fill=\"#000000\">3</text>\n</g>\n<!-- 1&#45;&#45;3 -->\n<g id=\"edge3\" class=\"edge\">\n<title>1&#45;&#45;3</title>\n<path fill=\"none\" stroke=\"#000000\" d=\"M129.0122,-262.2255C139.5267,-246.721 155.0566,-223.821 165.4956,-208.4279\"/>\n<text text-anchor=\"middle\" x=\"158.6364\" y=\"-231.8\" font-family=\"Times,serif\" font-size=\"14.00\" fill=\"#000000\">62</text>\n</g>\n<!-- 2 -->\n<g id=\"node5\" class=\"node\">\n<title>2</title>\n<ellipse fill=\"none\" stroke=\"#000000\" cx=\"122.6364\" cy=\"-105\" rx=\"27\" ry=\"18\"/>\n<text text-anchor=\"middle\" x=\"122.6364\" y=\"-101.3\" font-family=\"Times,serif\" font-size=\"14.00\" fill=\"#000000\">2</text>\n</g>\n<!-- 1&#45;&#45;2 -->\n<g id=\"edge4\" class=\"edge\">\n<title>1&#45;&#45;2</title>\n<path fill=\"none\" stroke=\"#000000\" d=\"M118.162,-260.7078C119.1248,-227.2024 121.1602,-156.3695 122.1178,-123.0471\"/>\n<text text-anchor=\"middle\" x=\"127.6364\" y=\"-188.3\" font-family=\"Times,serif\" font-size=\"14.00\" fill=\"#000000\">34</text>\n</g>\n<!-- 6 -->\n<g id=\"node6\" class=\"node\">\n<title>6</title>\n<ellipse fill=\"none\" stroke=\"#000000\" cx=\"47.6364\" cy=\"-192\" rx=\"27\" ry=\"18\"/>\n<text text-anchor=\"middle\" x=\"47.6364\" y=\"-188.3\" font-family=\"Times,serif\" font-size=\"14.00\" fill=\"#000000\">6</text>\n</g>\n<!-- 1&#45;&#45;6 -->\n<g id=\"edge5\" class=\"edge\">\n<title>1&#45;&#45;6</title>\n<path fill=\"none\" stroke=\"#000000\" d=\"M103.3174,-263.4839C97.6825,-257.2262 91.234,-249.8728 85.6364,-243 76.4321,-231.699 66.6167,-218.4928 59.2675,-208.3508\"/>\n<text text-anchor=\"middle\" x=\"93.6364\" y=\"-231.8\" font-family=\"Times,serif\" font-size=\"14.00\" fill=\"#000000\">85</text>\n</g>\n<!-- 4&#45;&#45;6 -->\n<g id=\"edge8\" class=\"edge\">\n<title>4&#45;&#45;6</title>\n<path fill=\"none\" stroke=\"#000000\" d=\"M45.9612,-260.5864C46.1414,-250.8901 46.3805,-238.8011 46.6364,-228 46.7726,-222.2494 46.9401,-215.9826 47.0987,-210.3134\"/>\n<text text-anchor=\"middle\" x=\"54.6364\" y=\"-231.8\" font-family=\"Times,serif\" font-size=\"14.00\" fill=\"#000000\">89</text>\n</g>\n<!-- 3&#45;&#45;2 -->\n<g id=\"edge7\" class=\"edge\">\n<title>3&#45;&#45;2</title>\n<path fill=\"none\" stroke=\"#000000\" d=\"M166.2246,-175.2255C156.6625,-159.8198 142.5682,-137.1124 133.0161,-121.723\"/>\n<text text-anchor=\"middle\" x=\"160.6364\" y=\"-144.8\" font-family=\"Times,serif\" font-size=\"14.00\" fill=\"#000000\">50</text>\n</g>\n<!-- 5 -->\n<g id=\"node7\" class=\"node\">\n<title>5</title>\n<ellipse fill=\"none\" stroke=\"#000000\" cx=\"169.6364\" cy=\"-18\" rx=\"27\" ry=\"18\"/>\n<text text-anchor=\"middle\" x=\"169.6364\" y=\"-14.3\" font-family=\"Times,serif\" font-size=\"14.00\" fill=\"#000000\">5</text>\n</g>\n<!-- 2&#45;&#45;5 -->\n<g id=\"edge6\" class=\"edge\">\n<title>2&#45;&#45;5</title>\n<path fill=\"none\" stroke=\"#000000\" d=\"M131.9221,-87.8116C140.1618,-72.5593 152.1361,-50.3942 160.37,-35.1527\"/>\n<text text-anchor=\"middle\" x=\"156.6364\" y=\"-57.8\" font-family=\"Times,serif\" font-size=\"14.00\" fill=\"#000000\">90</text>\n</g>\n<!-- 6&#45;&#45;5 -->\n<g id=\"edge11\" class=\"edge\">\n<title>6&#45;&#45;5</title>\n<path fill=\"none\" stroke=\"#000000\" d=\"M33.1786,-176.7843C14.7336,-155.4583 -12.604,-116.038 6.6364,-87 37.1037,-41.0181 104.983,-25.5953 142.8308,-20.4839\"/>\n<text text-anchor=\"middle\" x=\"10.6364\" y=\"-101.3\" font-family=\"Times,serif\" font-size=\"14.00\" fill=\"#000000\">4</text>\n</g>\n<!-- 7 -->\n<g id=\"node8\" class=\"node\">\n<title>7</title>\n<ellipse fill=\"none\" stroke=\"#000000\" cx=\"50.6364\" cy=\"-105\" rx=\"27\" ry=\"18\"/>\n<text text-anchor=\"middle\" x=\"50.6364\" y=\"-101.3\" font-family=\"Times,serif\" font-size=\"14.00\" fill=\"#000000\">7</text>\n</g>\n<!-- 6&#45;&#45;7 -->\n<g id=\"edge12\" class=\"edge\">\n<title>6&#45;&#45;7</title>\n<path fill=\"none\" stroke=\"#000000\" d=\"M48.258,-173.9735C48.7728,-159.0422 49.5009,-137.9283 50.0156,-123.0034\"/>\n<text text-anchor=\"middle\" x=\"57.6364\" y=\"-144.8\" font-family=\"Times,serif\" font-size=\"14.00\" fill=\"#000000\">53</text>\n</g>\n<!-- 5&#45;&#45;1 -->\n<g id=\"edge9\" class=\"edge\">\n<title>5&#45;&#45;1</title>\n<path fill=\"none\" stroke=\"#000000\" d=\"M180.4384,-34.7735C201.1495,-69.2268 241.9035,-149.7839 212.6364,-210 198.29,-239.517 164.414,-259.1983 141.2473,-269.7406\"/>\n<text text-anchor=\"middle\" x=\"230.6364\" y=\"-144.8\" font-family=\"Times,serif\" font-size=\"14.00\" fill=\"#000000\">14</text>\n</g>\n<!-- 5&#45;&#45;3 -->\n<g id=\"edge10\" class=\"edge\">\n<title>5&#45;&#45;3</title>\n<path fill=\"none\" stroke=\"#000000\" d=\"M170.3624,-36.0471C171.703,-69.3695 174.5526,-140.2024 175.9005,-173.7078\"/>\n<text text-anchor=\"middle\" x=\"181.6364\" y=\"-101.3\" font-family=\"Times,serif\" font-size=\"14.00\" fill=\"#000000\">91</text>\n</g>\n</g>\n</svg>\n"
          },
          "metadata": {},
          "execution_count": 13
        }
      ]
    },
    {
      "cell_type": "code",
      "source": [
        "Camino, Costo = dijkstra(G, 0)\n",
        "print(Camino)\n",
        "print(Costo)\n",
        "drawG_al(G, Peso=True, Camino=Camino)"
      ],
      "metadata": {
        "colab": {
          "base_uri": "https://localhost:8080/",
          "height": 580
        },
        "id": "AagsqfKDWyWp",
        "outputId": "4b3a05b5-d703-4549-e3c7-13f5fb12fd26"
      },
      "execution_count": 14,
      "outputs": [
        {
          "output_type": "stream",
          "name": "stdout",
          "text": [
            "[-1, 0, 1, 1, 0, 6, 4, 6]\n",
            "[0, 84, 118, 146, 23, 116, 112, 165]\n"
          ]
        },
        {
          "output_type": "execute_result",
          "data": {
            "text/plain": [
              "<graphviz.dot.Graph at 0x7fa1bedb3350>"
            ],
            "image/svg+xml": "<?xml version=\"1.0\" encoding=\"UTF-8\" standalone=\"no\"?>\n<!DOCTYPE svg PUBLIC \"-//W3C//DTD SVG 1.1//EN\"\n \"http://www.w3.org/Graphics/SVG/1.1/DTD/svg11.dtd\">\n<!-- Generated by graphviz version 2.40.1 (20161225.0304)\n -->\n<!-- Title: alegria Pages: 1 -->\n<svg width=\"208pt\" height=\"392pt\"\n viewBox=\"0.00 0.00 208.00 392.00\" xmlns=\"http://www.w3.org/2000/svg\" xmlns:xlink=\"http://www.w3.org/1999/xlink\">\n<g id=\"graph0\" class=\"graph\" transform=\"scale(1 1) rotate(0) translate(4 388)\">\n<title>alegria</title>\n<polygon fill=\"#ffffff\" stroke=\"transparent\" points=\"-4,4 -4,-388 204,-388 204,4 -4,4\"/>\n<!-- 0 -->\n<g id=\"node1\" class=\"node\">\n<title>0</title>\n<ellipse fill=\"none\" stroke=\"#000000\" cx=\"65\" cy=\"-366\" rx=\"27\" ry=\"18\"/>\n<text text-anchor=\"middle\" x=\"65\" y=\"-362.3\" font-family=\"Times,serif\" font-size=\"14.00\" fill=\"#000000\">0</text>\n</g>\n<!-- 1 -->\n<g id=\"node2\" class=\"node\">\n<title>1</title>\n<ellipse fill=\"none\" stroke=\"#000000\" cx=\"105\" cy=\"-279\" rx=\"27\" ry=\"18\"/>\n<text text-anchor=\"middle\" x=\"105\" y=\"-275.3\" font-family=\"Times,serif\" font-size=\"14.00\" fill=\"#000000\">1</text>\n</g>\n<!-- 0&#45;&#45;1 -->\n<g id=\"edge1\" class=\"edge\">\n<title>0&#45;&#45;1</title>\n<path fill=\"none\" stroke=\"#ffa500\" stroke-width=\"2\" d=\"M73.0946,-348.3943C78.7703,-336.0496 86.4572,-319.3306 92.8637,-305.3965\"/>\n<polygon fill=\"#ffa500\" stroke=\"#ffa500\" stroke-width=\"2\" points=\"96.0566,-306.8305 97.054,-296.2827 89.6966,-303.9063 96.0566,-306.8305\"/>\n<text text-anchor=\"middle\" x=\"96\" y=\"-318.8\" font-family=\"Times,serif\" font-size=\"14.00\" fill=\"#000000\">84</text>\n</g>\n<!-- 4 -->\n<g id=\"node5\" class=\"node\">\n<title>4</title>\n<ellipse fill=\"none\" stroke=\"#000000\" cx=\"30\" cy=\"-279\" rx=\"27\" ry=\"18\"/>\n<text text-anchor=\"middle\" x=\"30\" y=\"-275.3\" font-family=\"Times,serif\" font-size=\"14.00\" fill=\"#000000\">4</text>\n</g>\n<!-- 0&#45;&#45;4 -->\n<g id=\"edge4\" class=\"edge\">\n<title>0&#45;&#45;4</title>\n<path fill=\"none\" stroke=\"#ffa500\" stroke-width=\"2\" d=\"M57.9172,-348.3943C53.0309,-336.2482 46.4409,-319.8674 40.8907,-306.0711\"/>\n<polygon fill=\"#ffa500\" stroke=\"#ffa500\" stroke-width=\"2\" points=\"44.0517,-304.5506 37.0722,-296.5796 37.5575,-307.1633 44.0517,-304.5506\"/>\n<text text-anchor=\"middle\" x=\"58\" y=\"-318.8\" font-family=\"Times,serif\" font-size=\"14.00\" fill=\"#000000\">23</text>\n</g>\n<!-- 2 -->\n<g id=\"node3\" class=\"node\">\n<title>2</title>\n<ellipse fill=\"none\" stroke=\"#000000\" cx=\"99\" cy=\"-192\" rx=\"27\" ry=\"18\"/>\n<text text-anchor=\"middle\" x=\"99\" y=\"-188.3\" font-family=\"Times,serif\" font-size=\"14.00\" fill=\"#000000\">2</text>\n</g>\n<!-- 1&#45;&#45;2 -->\n<g id=\"edge2\" class=\"edge\">\n<title>1&#45;&#45;2</title>\n<path fill=\"none\" stroke=\"#ffa500\" stroke-width=\"2\" d=\"M103.7568,-260.9735C102.9443,-249.1918 101.8663,-233.5607 100.9419,-220.1581\"/>\n<polygon fill=\"#ffa500\" stroke=\"#ffa500\" stroke-width=\"2\" points=\"104.4214,-219.7388 100.2416,-210.0034 97.438,-220.2205 104.4214,-219.7388\"/>\n<text text-anchor=\"middle\" x=\"111\" y=\"-231.8\" font-family=\"Times,serif\" font-size=\"14.00\" fill=\"#000000\">34</text>\n</g>\n<!-- 3 -->\n<g id=\"node4\" class=\"node\">\n<title>3</title>\n<ellipse fill=\"none\" stroke=\"#000000\" cx=\"151\" cy=\"-18\" rx=\"27\" ry=\"18\"/>\n<text text-anchor=\"middle\" x=\"151\" y=\"-14.3\" font-family=\"Times,serif\" font-size=\"14.00\" fill=\"#000000\">3</text>\n</g>\n<!-- 1&#45;&#45;3 -->\n<g id=\"edge3\" class=\"edge\">\n<title>1&#45;&#45;3</title>\n<path fill=\"none\" stroke=\"#ffa500\" stroke-width=\"2\" d=\"M120.4164,-263.9753C126.6768,-257.6635 133.8647,-250.1405 140,-243 151.9914,-229.0439 157.0296,-226.5843 165,-210 182.2764,-174.0523 182.0734,-162.5783 187,-123 188.9764,-107.1225 190.581,-102.5941 187,-87 183.3519,-71.1138 178.5164,-68.4632 171,-54 169.334,-50.7942 167.5464,-47.4514 165.7502,-44.1505\"/>\n<polygon fill=\"#ffa500\" stroke=\"#ffa500\" stroke-width=\"2\" points=\"168.6555,-42.171 160.7589,-35.1074 162.527,-45.5536 168.6555,-42.171\"/>\n<text text-anchor=\"middle\" x=\"192\" y=\"-144.8\" font-family=\"Times,serif\" font-size=\"14.00\" fill=\"#000000\">62</text>\n</g>\n<!-- 6 -->\n<g id=\"node6\" class=\"node\">\n<title>6</title>\n<ellipse fill=\"none\" stroke=\"#000000\" cx=\"27\" cy=\"-192\" rx=\"27\" ry=\"18\"/>\n<text text-anchor=\"middle\" x=\"27\" y=\"-188.3\" font-family=\"Times,serif\" font-size=\"14.00\" fill=\"#000000\">6</text>\n</g>\n<!-- 1&#45;&#45;6 -->\n<g id=\"edge8\" class=\"edge\">\n<title>1&#45;&#45;6</title>\n<path fill=\"none\" stroke=\"#000000\" d=\"M91.0552,-263.4461C76.9453,-247.7082 55.2477,-223.5071 41.0871,-207.7125\"/>\n<text text-anchor=\"middle\" x=\"79\" y=\"-231.8\" font-family=\"Times,serif\" font-size=\"14.00\" fill=\"#000000\">85</text>\n</g>\n<!-- 5 -->\n<g id=\"node7\" class=\"node\">\n<title>5</title>\n<ellipse fill=\"none\" stroke=\"#000000\" cx=\"151\" cy=\"-105\" rx=\"27\" ry=\"18\"/>\n<text text-anchor=\"middle\" x=\"151\" y=\"-101.3\" font-family=\"Times,serif\" font-size=\"14.00\" fill=\"#000000\">5</text>\n</g>\n<!-- 2&#45;&#45;5 -->\n<g id=\"edge9\" class=\"edge\">\n<title>2&#45;&#45;5</title>\n<path fill=\"none\" stroke=\"#000000\" d=\"M109.0261,-175.2255C118.2341,-159.8198 131.8064,-137.1124 141.0047,-121.723\"/>\n<text text-anchor=\"middle\" x=\"136\" y=\"-144.8\" font-family=\"Times,serif\" font-size=\"14.00\" fill=\"#000000\">90</text>\n</g>\n<!-- 3&#45;&#45;2 -->\n<g id=\"edge10\" class=\"edge\">\n<title>3&#45;&#45;2</title>\n<path fill=\"none\" stroke=\"#000000\" d=\"M135.3095,-32.7184C122.7655,-45.6409 106.1398,-65.6628 99,-87 89.2241,-116.2151 92.3554,-152.6168 95.6128,-173.9844\"/>\n<text text-anchor=\"middle\" x=\"107\" y=\"-101.3\" font-family=\"Times,serif\" font-size=\"14.00\" fill=\"#000000\">50</text>\n</g>\n<!-- 4&#45;&#45;6 -->\n<g id=\"edge6\" class=\"edge\">\n<title>4&#45;&#45;6</title>\n<path fill=\"none\" stroke=\"#ffa500\" stroke-width=\"2\" d=\"M28.8554,-260.6918C28.5353,-255.0228 28.2162,-248.7548 28,-243 27.7275,-235.7461 27.5269,-227.9088 27.3802,-220.6054\"/>\n<polygon fill=\"#ffa500\" stroke=\"#ffa500\" stroke-width=\"2\" points=\"30.8765,-220.3544 27.2017,-210.4173 23.8776,-220.4771 30.8765,-220.3544\"/>\n<text text-anchor=\"middle\" x=\"36\" y=\"-231.8\" font-family=\"Times,serif\" font-size=\"14.00\" fill=\"#000000\">89</text>\n</g>\n<!-- 6&#45;&#45;5 -->\n<g id=\"edge5\" class=\"edge\">\n<title>6&#45;&#45;5</title>\n<path fill=\"none\" stroke=\"#ffa500\" stroke-width=\"2\" d=\"M45.8329,-178.7866C66.7109,-164.1383 100.5535,-140.3939 124.1919,-123.8089\"/>\n<polygon fill=\"#ffa500\" stroke=\"#ffa500\" stroke-width=\"2\" points=\"126.2202,-126.6614 132.3961,-118.0527 122.1998,-120.9311 126.2202,-126.6614\"/>\n<text text-anchor=\"middle\" x=\"101\" y=\"-144.8\" font-family=\"Times,serif\" font-size=\"14.00\" fill=\"#000000\">4</text>\n</g>\n<!-- 7 -->\n<g id=\"node8\" class=\"node\">\n<title>7</title>\n<ellipse fill=\"none\" stroke=\"#000000\" cx=\"27\" cy=\"-105\" rx=\"27\" ry=\"18\"/>\n<text text-anchor=\"middle\" x=\"27\" y=\"-101.3\" font-family=\"Times,serif\" font-size=\"14.00\" fill=\"#000000\">7</text>\n</g>\n<!-- 6&#45;&#45;7 -->\n<g id=\"edge7\" class=\"edge\">\n<title>6&#45;&#45;7</title>\n<path fill=\"none\" stroke=\"#ffa500\" stroke-width=\"2\" d=\"M27,-173.9735C27,-162.1918 27,-146.5607 27,-133.1581\"/>\n<polygon fill=\"#ffa500\" stroke=\"#ffa500\" stroke-width=\"2\" points=\"30.5001,-133.0033 27,-123.0034 23.5001,-133.0034 30.5001,-133.0033\"/>\n<text text-anchor=\"middle\" x=\"35\" y=\"-144.8\" font-family=\"Times,serif\" font-size=\"14.00\" fill=\"#000000\">53</text>\n</g>\n<!-- 5&#45;&#45;1 -->\n<g id=\"edge11\" class=\"edge\">\n<title>5&#45;&#45;1</title>\n<path fill=\"none\" stroke=\"#000000\" d=\"M150.7189,-123.018C150.3707,-132.8157 149.6164,-145.1213 148,-156 142.0873,-195.7946 138.8966,-206.0424 123,-243 120.2942,-249.2907 117.0222,-256.0407 114.014,-261.9765\"/>\n<text text-anchor=\"middle\" x=\"153\" y=\"-188.3\" font-family=\"Times,serif\" font-size=\"14.00\" fill=\"#000000\">14</text>\n</g>\n<!-- 5&#45;&#45;3 -->\n<g id=\"edge12\" class=\"edge\">\n<title>5&#45;&#45;3</title>\n<path fill=\"none\" stroke=\"#000000\" d=\"M151,-86.9735C151,-72.0422 151,-50.9283 151,-36.0034\"/>\n<text text-anchor=\"middle\" x=\"159\" y=\"-57.8\" font-family=\"Times,serif\" font-size=\"14.00\" fill=\"#000000\">91</text>\n</g>\n</g>\n</svg>\n"
          },
          "metadata": {},
          "execution_count": 14
        }
      ]
    },
    {
      "cell_type": "code",
      "source": [
        ""
      ],
      "metadata": {
        "id": "98wCOYJIXADN"
      },
      "execution_count": null,
      "outputs": []
    }
  ]
}