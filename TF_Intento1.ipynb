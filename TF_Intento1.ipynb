{
  "nbformat": 4,
  "nbformat_minor": 0,
  "metadata": {
    "colab": {
      "name": "TF-Intento1.ipynb",
      "provenance": []
    },
    "kernelspec": {
      "name": "python3",
      "display_name": "Python 3"
    },
    "language_info": {
      "name": "python"
    }
  },
  "cells": [
    {
      "cell_type": "code",
      "execution_count": 69,
      "metadata": {
        "colab": {
          "base_uri": "https://localhost:8080/"
        },
        "id": "bK5i7Z-FDX3q",
        "outputId": "3bb85881-3661-46c8-c8c5-7fd5a8285d0b"
      },
      "outputs": [
        {
          "output_type": "execute_result",
          "data": {
            "text/plain": [
              "3"
            ]
          },
          "metadata": {},
          "execution_count": 69
        }
      ],
      "source": [
        "import random\n",
        "import graphviz as gv\n",
        "import csv\n",
        "import heapq as hq\n",
        "import numpy as np\n",
        "import math\n",
        "\n",
        "def HoraDia():\n",
        "  Hora = (random.randint(100,2400))/100\n",
        "  return Hora\n",
        "\n",
        "def Trafico():\n",
        "  TraficoCaraba = HoraDia()\n",
        "  NivelTra=0\n",
        "  if(TraficoCaraba > 7.00 and TraficoCaraba < 8.30 or TraficoCaraba> 18.30 and TraficoCaraba< 20.00):\n",
        "    NivelTra = 1 \n",
        "  if(TraficoCaraba> 16.30 and TraficoCaraba< 19.00):\n",
        "    NivelTra = 2\n",
        "  if(TraficoCaraba > 6.30 and TraficoCaraba < 10.00 or TraficoCaraba> 17.00 and TraficoCaraba< 21.00):\n",
        "    NivelTra = 3\n",
        "\n",
        "  return NivelTra\n",
        "\n",
        "Trafico()"
      ]
    },
    {
      "cell_type": "code",
      "source": [
        "Calles1=[]\n",
        "with open(\"LibroPrueba.csv\") as archivo:\n",
        "  reader=csv.reader(archivo)\n",
        "  for row in reader:\n",
        "    Calles1.append(row)"
      ],
      "metadata": {
        "id": "_VG51OQKD5hh"
      },
      "execution_count": 70,
      "outputs": []
    },
    {
      "cell_type": "code",
      "source": [
        "Calles1"
      ],
      "metadata": {
        "colab": {
          "base_uri": "https://localhost:8080/"
        },
        "id": "Y8rVuxD-HraU",
        "outputId": "82064be7-a935-4aaf-c621-0c33846b6e36"
      },
      "execution_count": 71,
      "outputs": [
        {
          "output_type": "execute_result",
          "data": {
            "text/plain": [
              "[['Aux.TupacAmaru', 'Central'],\n",
              " ['Aux.TupacAmaru', 'LosCrisantemos'],\n",
              " ['Aux.TupacAmaru', 'CaminoReal'],\n",
              " ['Aux.TupacAmaru', 'ElDorado'],\n",
              " ['Aux.TupacAmaru', 'Florales'],\n",
              " ['Aux.TupacAmaru', 'Miraflores'],\n",
              " ['Aux.TupacAmaru', 'Lazmines']]"
            ]
          },
          "metadata": {},
          "execution_count": 71
        }
      ]
    },
    {
      "cell_type": "code",
      "source": [
        "labels=[]\n",
        "def show(Grafo, labels=None, dirigido=False, peso=False, path=[], layout=\"sfdp\"):\n",
        "  grafo = gv.Digraph(\"alegria\") if dirigido else gv.Graph(\"felicidad\")\n",
        "  grafo.graph_attr[\"layout\"] = layout\n",
        "  grafo.edge_attr[\"color\"] = \"gray\"\n",
        "  grafo.edge_attr[\"fontsize\"] = \"8\"\n",
        "  grafo.node_attr[\"color\"] = \"orangered\"\n",
        "  grafo.node_attr[\"width\"] = \"0.1\"\n",
        "  grafo.node_attr[\"height\"] = \"0.1\"\n",
        "  grafo.node_attr[\"fontsize\"] = \"8\"\n",
        "  grafo.node_attr[\"fontcolor\"] = \"mediumslateblue\"\n",
        "  n = len(Grafo)\n",
        "  for fila in range(n):\n",
        "    grafo.node(str(fila), labels[fila] if labels else str(fila))\n",
        "\n",
        "  added = set()\n",
        "  for columna, fila in enumerate(path):\n",
        "    if fila >= 0:\n",
        "      if peso:\n",
        "        for vi, espacio in Grafo[fila]:\n",
        "          if vi == columna:\n",
        "            break\n",
        "\n",
        "        grafo.edge(str(fila), str(columna), str(espacio), dir=\"forward\", penwidt=\"2\", color=\"orange\")\n",
        "      else:\n",
        "        grafo.edge(str(fila), str(columna), dir=\"forward\", penwidt=\"2\", color=\"orange\")\n",
        "\n",
        "      added.add(f\"{fila}->{columna}\")\n",
        "      added.add(f\"{columna}->{fila}\")\n",
        "    #peso\n",
        "  if peso:\n",
        "    for fila in range(n):\n",
        "      for columna, espacio in Grafo[fila]:\n",
        "        if not dirigido and not f\"{fila}->{columna}\" in added:\n",
        "          added.add(f\"{fila}->{columna}\")\n",
        "          added.add(f\"{columna}->{fila}\")\n",
        "          grafo.edge(str(fila), str(columna), str(espacio))\n",
        "        elif dirigido:\n",
        "          grafo.edge(str(fila), str(columna), str(espacio))\n",
        "  else:\n",
        "    for fila in range(n):\n",
        "      for columna in Grafo[fila]:\n",
        "        if not dirigido and not f\"{fila}->{columna}\" in added:\n",
        "          added.add(f\"{fila}->{columna}\")\n",
        "          added.add(f\"{columna}->{fila}\")\n",
        "          grafo.edge(str(fila), str(columna))\n",
        "        elif dirigido:\n",
        "          grafo.edge(str(fila), str(columna))\n",
        "  return grafo"
      ],
      "metadata": {
        "id": "3X_O09nWIbGf"
      },
      "execution_count": 83,
      "outputs": []
    },
    {
      "cell_type": "code",
      "source": [
        "show(Calles1, dirigido=True, labels=labels, layout=\"dot\")\n"
      ],
      "metadata": {
        "colab": {
          "base_uri": "https://localhost:8080/",
          "height": 143
        },
        "id": "CHAy2amCI6JQ",
        "outputId": "47a249a3-0c53-47d7-dcde-cf1235527e46"
      },
      "execution_count": 81,
      "outputs": [
        {
          "output_type": "execute_result",
          "data": {
            "text/plain": [
              "<graphviz.dot.Digraph at 0x7f9b35177c50>"
            ],
            "image/svg+xml": "<?xml version=\"1.0\" encoding=\"UTF-8\" standalone=\"no\"?>\n<!DOCTYPE svg PUBLIC \"-//W3C//DTD SVG 1.1//EN\"\n \"http://www.w3.org/Graphics/SVG/1.1/DTD/svg11.dtd\">\n<!-- Generated by graphviz version 2.40.1 (20161225.0304)\n -->\n<!-- Title: alegria Pages: 1 -->\n<svg width=\"768pt\" height=\"92pt\"\n viewBox=\"0.00 0.00 768.20 92.08\" xmlns=\"http://www.w3.org/2000/svg\" xmlns:xlink=\"http://www.w3.org/1999/xlink\">\n<g id=\"graph0\" class=\"graph\" transform=\"scale(1 1) rotate(0) translate(4 88.0833)\">\n<title>alegria</title>\n<polygon fill=\"#ffffff\" stroke=\"transparent\" points=\"-4,4 -4,-88.0833 764.196,-88.0833 764.196,4 -4,4\"/>\n<!-- 0 -->\n<g id=\"node1\" class=\"node\">\n<title>0</title>\n<ellipse fill=\"none\" stroke=\"#ff4500\" cx=\"708.2046\" cy=\"-72.0624\" rx=\"14.7\" ry=\"12.0417\"/>\n<text text-anchor=\"middle\" x=\"708.2046\" y=\"-70.1624\" font-family=\"Times,serif\" font-size=\"8.00\" fill=\"#7b68ee\">0</text>\n</g>\n<!-- Aux.TupacAmaru -->\n<g id=\"node8\" class=\"node\">\n<title>Aux.TupacAmaru</title>\n<ellipse fill=\"none\" stroke=\"#ff4500\" cx=\"365.2046\" cy=\"-12.0208\" rx=\"56.6372\" ry=\"12.0417\"/>\n<text text-anchor=\"middle\" x=\"365.2046\" y=\"-10.1208\" font-family=\"Times,serif\" font-size=\"8.00\" fill=\"#7b68ee\">Aux.TupacAmaru</text>\n</g>\n<!-- 0&#45;&gt;Aux.TupacAmaru -->\n<g id=\"edge1\" class=\"edge\">\n<title>0&#45;&gt;Aux.TupacAmaru</title>\n<path fill=\"none\" stroke=\"#c0c0c0\" d=\"M693.4875,-69.5281C643.8759,-60.9822 482.9832,-33.2449 431.2046,-24.0416 427.0119,-23.2964 422.6706,-22.5189 418.3086,-21.7334\"/>\n<polygon fill=\"#c0c0c0\" stroke=\"#c0c0c0\" points=\"418.6163,-18.2324 408.1532,-19.8979 417.3712,-25.1208 418.6163,-18.2324\"/>\n</g>\n<!-- Central -->\n<g id=\"node9\" class=\"node\">\n<title>Central</title>\n<ellipse fill=\"none\" stroke=\"#ff4500\" cx=\"731.2046\" cy=\"-12.0208\" rx=\"28.9828\" ry=\"12.0417\"/>\n<text text-anchor=\"middle\" x=\"731.2046\" y=\"-10.1208\" font-family=\"Times,serif\" font-size=\"8.00\" fill=\"#7b68ee\">Central</text>\n</g>\n<!-- 0&#45;&gt;Central -->\n<g id=\"edge2\" class=\"edge\">\n<title>0&#45;&gt;Central</title>\n<path fill=\"none\" stroke=\"#c0c0c0\" d=\"M712.6392,-60.4858C715.5604,-52.86 719.4746,-42.6419 722.9558,-33.5543\"/>\n<polygon fill=\"#c0c0c0\" stroke=\"#c0c0c0\" points=\"726.3173,-34.5632 726.6261,-23.9729 719.7805,-32.0591 726.3173,-34.5632\"/>\n</g>\n<!-- 1 -->\n<g id=\"node2\" class=\"node\">\n<title>1</title>\n<ellipse fill=\"none\" stroke=\"#ff4500\" cx=\"104.2046\" cy=\"-72.0624\" rx=\"14.7\" ry=\"12.0417\"/>\n<text text-anchor=\"middle\" x=\"104.2046\" y=\"-70.1624\" font-family=\"Times,serif\" font-size=\"8.00\" fill=\"#7b68ee\">1</text>\n</g>\n<!-- 1&#45;&gt;Aux.TupacAmaru -->\n<g id=\"edge3\" class=\"edge\">\n<title>1&#45;&gt;Aux.TupacAmaru</title>\n<path fill=\"none\" stroke=\"#c0c0c0\" d=\"M118.6088,-68.7488C155.6841,-60.2199 255.7366,-37.2033 316.3973,-23.2487\"/>\n<polygon fill=\"#c0c0c0\" stroke=\"#c0c0c0\" points=\"317.5491,-26.5752 326.5099,-20.9223 315.9797,-19.7534 317.5491,-26.5752\"/>\n</g>\n<!-- LosCrisantemos -->\n<g id=\"node10\" class=\"node\">\n<title>LosCrisantemos</title>\n<ellipse fill=\"none\" stroke=\"#ff4500\" cx=\"50.2046\" cy=\"-12.0208\" rx=\"50.41\" ry=\"12.0417\"/>\n<text text-anchor=\"middle\" x=\"50.2046\" y=\"-10.1208\" font-family=\"Times,serif\" font-size=\"8.00\" fill=\"#7b68ee\">LosCrisantemos</text>\n</g>\n<!-- 1&#45;&gt;LosCrisantemos -->\n<g id=\"edge4\" class=\"edge\">\n<title>1&#45;&gt;LosCrisantemos</title>\n<path fill=\"none\" stroke=\"#c0c0c0\" d=\"M95.2876,-62.1478C87.8182,-53.8427 76.9317,-41.7383 67.7279,-31.5047\"/>\n<polygon fill=\"#c0c0c0\" stroke=\"#c0c0c0\" points=\"70.0943,-28.9018 60.8048,-23.807 64.8896,-33.5828 70.0943,-28.9018\"/>\n</g>\n<!-- 2 -->\n<g id=\"node3\" class=\"node\">\n<title>2</title>\n<ellipse fill=\"none\" stroke=\"#ff4500\" cx=\"183.2046\" cy=\"-72.0624\" rx=\"14.7\" ry=\"12.0417\"/>\n<text text-anchor=\"middle\" x=\"183.2046\" y=\"-70.1624\" font-family=\"Times,serif\" font-size=\"8.00\" fill=\"#7b68ee\">2</text>\n</g>\n<!-- 2&#45;&gt;Aux.TupacAmaru -->\n<g id=\"edge5\" class=\"edge\">\n<title>2&#45;&gt;Aux.TupacAmaru</title>\n<path fill=\"none\" stroke=\"#c0c0c0\" d=\"M197.1836,-67.4508C224.1745,-58.5465 284.3711,-38.6877 324.887,-25.3215\"/>\n<polygon fill=\"#c0c0c0\" stroke=\"#c0c0c0\" points=\"326.0779,-28.6143 334.4779,-22.1575 323.8848,-21.9667 326.0779,-28.6143\"/>\n</g>\n<!-- CaminoReal -->\n<g id=\"node11\" class=\"node\">\n<title>CaminoReal</title>\n<ellipse fill=\"none\" stroke=\"#ff4500\" cx=\"160.2046\" cy=\"-12.0208\" rx=\"41.9398\" ry=\"12.0417\"/>\n<text text-anchor=\"middle\" x=\"160.2046\" y=\"-10.1208\" font-family=\"Times,serif\" font-size=\"8.00\" fill=\"#7b68ee\">CaminoReal</text>\n</g>\n<!-- 2&#45;&gt;CaminoReal -->\n<g id=\"edge6\" class=\"edge\">\n<title>2&#45;&gt;CaminoReal</title>\n<path fill=\"none\" stroke=\"#c0c0c0\" d=\"M178.77,-60.4858C175.8488,-52.86 171.9345,-42.6419 168.4534,-33.5543\"/>\n<polygon fill=\"#c0c0c0\" stroke=\"#c0c0c0\" points=\"171.6287,-32.0591 164.783,-23.9729 165.0919,-34.5632 171.6287,-32.0591\"/>\n</g>\n<!-- 3 -->\n<g id=\"node4\" class=\"node\">\n<title>3</title>\n<ellipse fill=\"none\" stroke=\"#ff4500\" cx=\"286.2046\" cy=\"-72.0624\" rx=\"14.7\" ry=\"12.0417\"/>\n<text text-anchor=\"middle\" x=\"286.2046\" y=\"-70.1624\" font-family=\"Times,serif\" font-size=\"8.00\" fill=\"#7b68ee\">3</text>\n</g>\n<!-- 3&#45;&gt;Aux.TupacAmaru -->\n<g id=\"edge7\" class=\"edge\">\n<title>3&#45;&gt;Aux.TupacAmaru</title>\n<path fill=\"none\" stroke=\"#c0c0c0\" d=\"M297.1892,-63.7139C308.6012,-55.0406 326.8126,-41.1995 341.5201,-30.0215\"/>\n<polygon fill=\"#c0c0c0\" stroke=\"#c0c0c0\" points=\"343.8531,-32.6445 349.6969,-23.807 339.6175,-27.0714 343.8531,-32.6445\"/>\n</g>\n<!-- ElDorado -->\n<g id=\"node12\" class=\"node\">\n<title>ElDorado</title>\n<ellipse fill=\"none\" stroke=\"#ff4500\" cx=\"255.2046\" cy=\"-12.0208\" rx=\"35.2113\" ry=\"12.0417\"/>\n<text text-anchor=\"middle\" x=\"255.2046\" y=\"-10.1208\" font-family=\"Times,serif\" font-size=\"8.00\" fill=\"#7b68ee\">ElDorado</text>\n</g>\n<!-- 3&#45;&gt;ElDorado -->\n<g id=\"edge8\" class=\"edge\">\n<title>3&#45;&gt;ElDorado</title>\n<path fill=\"none\" stroke=\"#c0c0c0\" d=\"M280.3737,-60.7691C276.3644,-53.0038 270.9181,-42.4551 266.117,-33.1564\"/>\n<polygon fill=\"#c0c0c0\" stroke=\"#c0c0c0\" points=\"269.1325,-31.3675 261.4348,-24.0876 262.9126,-34.5789 269.1325,-31.3675\"/>\n</g>\n<!-- 4 -->\n<g id=\"node5\" class=\"node\">\n<title>4</title>\n<ellipse fill=\"none\" stroke=\"#ff4500\" cx=\"388.2046\" cy=\"-72.0624\" rx=\"14.7\" ry=\"12.0417\"/>\n<text text-anchor=\"middle\" x=\"388.2046\" y=\"-70.1624\" font-family=\"Times,serif\" font-size=\"8.00\" fill=\"#7b68ee\">4</text>\n</g>\n<!-- 4&#45;&gt;Aux.TupacAmaru -->\n<g id=\"edge9\" class=\"edge\">\n<title>4&#45;&gt;Aux.TupacAmaru</title>\n<path fill=\"none\" stroke=\"#c0c0c0\" d=\"M383.77,-60.4858C380.8867,-52.9591 377.036,-42.9069 373.5892,-33.9089\"/>\n<polygon fill=\"#c0c0c0\" stroke=\"#c0c0c0\" points=\"376.788,-32.4749 369.9423,-24.3887 370.2512,-34.979 376.788,-32.4749\"/>\n</g>\n<!-- Florales -->\n<g id=\"node13\" class=\"node\">\n<title>Florales</title>\n<ellipse fill=\"none\" stroke=\"#ff4500\" cx=\"471.2046\" cy=\"-12.0208\" rx=\"31.2258\" ry=\"12.0417\"/>\n<text text-anchor=\"middle\" x=\"471.2046\" y=\"-10.1208\" font-family=\"Times,serif\" font-size=\"8.00\" fill=\"#7b68ee\">Florales</text>\n</g>\n<!-- 4&#45;&gt;Florales -->\n<g id=\"edge10\" class=\"edge\">\n<title>4&#45;&gt;Florales</title>\n<path fill=\"none\" stroke=\"#c0c0c0\" d=\"M399.3983,-63.965C411.7936,-54.9983 432.1199,-40.2944 447.9884,-28.8152\"/>\n<polygon fill=\"#c0c0c0\" stroke=\"#c0c0c0\" points=\"450.2161,-31.5236 456.267,-22.8266 446.1133,-25.8519 450.2161,-31.5236\"/>\n</g>\n<!-- 5 -->\n<g id=\"node6\" class=\"node\">\n<title>5</title>\n<ellipse fill=\"none\" stroke=\"#ff4500\" cx=\"508.2046\" cy=\"-72.0624\" rx=\"14.7\" ry=\"12.0417\"/>\n<text text-anchor=\"middle\" x=\"508.2046\" y=\"-70.1624\" font-family=\"Times,serif\" font-size=\"8.00\" fill=\"#7b68ee\">5</text>\n</g>\n<!-- 5&#45;&gt;Aux.TupacAmaru -->\n<g id=\"edge11\" class=\"edge\">\n<title>5&#45;&gt;Aux.TupacAmaru</title>\n<path fill=\"none\" stroke=\"#c0c0c0\" d=\"M495.0078,-66.5215C473.6704,-57.5625 430.8982,-39.6037 400.282,-26.7488\"/>\n<polygon fill=\"#c0c0c0\" stroke=\"#c0c0c0\" points=\"401.3866,-23.4167 390.8114,-22.7724 398.6766,-29.8708 401.3866,-23.4167\"/>\n</g>\n<!-- Miraflores -->\n<g id=\"node14\" class=\"node\">\n<title>Miraflores</title>\n<ellipse fill=\"none\" stroke=\"#ff4500\" cx=\"558.2046\" cy=\"-12.0208\" rx=\"37.4533\" ry=\"12.0417\"/>\n<text text-anchor=\"middle\" x=\"558.2046\" y=\"-10.1208\" font-family=\"Times,serif\" font-size=\"8.00\" fill=\"#7b68ee\">Miraflores</text>\n</g>\n<!-- 5&#45;&gt;Miraflores -->\n<g id=\"edge12\" class=\"edge\">\n<title>5&#45;&gt;Miraflores</title>\n<path fill=\"none\" stroke=\"#c0c0c0\" d=\"M516.6864,-61.8772C523.5648,-53.6174 533.4627,-41.7316 541.8691,-31.637\"/>\n<polygon fill=\"#c0c0c0\" stroke=\"#c0c0c0\" points=\"544.771,-33.6218 548.4807,-23.6976 539.3919,-29.1423 544.771,-33.6218\"/>\n</g>\n<!-- 6 -->\n<g id=\"node7\" class=\"node\">\n<title>6</title>\n<ellipse fill=\"none\" stroke=\"#ff4500\" cx=\"614.2046\" cy=\"-72.0624\" rx=\"14.7\" ry=\"12.0417\"/>\n<text text-anchor=\"middle\" x=\"614.2046\" y=\"-70.1624\" font-family=\"Times,serif\" font-size=\"8.00\" fill=\"#7b68ee\">6</text>\n</g>\n<!-- 6&#45;&gt;Aux.TupacAmaru -->\n<g id=\"edge13\" class=\"edge\">\n<title>6&#45;&gt;Aux.TupacAmaru</title>\n<path fill=\"none\" stroke=\"#c0c0c0\" d=\"M599.741,-68.5748C564.0019,-59.957 470.2584,-37.3526 412.6916,-23.4714\"/>\n<polygon fill=\"#c0c0c0\" stroke=\"#c0c0c0\" points=\"413.2759,-20.0121 402.7341,-21.0703 411.635,-26.817 413.2759,-20.0121\"/>\n</g>\n<!-- Lazmines -->\n<g id=\"node15\" class=\"node\">\n<title>Lazmines</title>\n<ellipse fill=\"none\" stroke=\"#ff4500\" cx=\"649.2046\" cy=\"-12.0208\" rx=\"35.2113\" ry=\"12.0417\"/>\n<text text-anchor=\"middle\" x=\"649.2046\" y=\"-10.1208\" font-family=\"Times,serif\" font-size=\"8.00\" fill=\"#7b68ee\">Lazmines</text>\n</g>\n<!-- 6&#45;&gt;Lazmines -->\n<g id=\"edge14\" class=\"edge\">\n<title>6&#45;&gt;Lazmines</title>\n<path fill=\"none\" stroke=\"#c0c0c0\" d=\"M620.6241,-61.0499C625.1829,-53.2295 631.4458,-42.4856 636.9471,-33.0481\"/>\n<polygon fill=\"#c0c0c0\" stroke=\"#c0c0c0\" points=\"640.091,-34.6048 642.1034,-24.2028 634.0434,-31.0794 640.091,-34.6048\"/>\n</g>\n</g>\n</svg>\n"
          },
          "metadata": {},
          "execution_count": 81
        }
      ]
    },
    {
      "cell_type": "code",
      "source": [
        "show(Calles1, dirigido=True, peso=True, labels=labels, layout=\"dot\")"
      ],
      "metadata": {
        "colab": {
          "base_uri": "https://localhost:8080/",
          "height": 298
        },
        "id": "TCnvU-StJ3JX",
        "outputId": "cdaf2201-b894-4ebd-e1cb-80b7542c3f27"
      },
      "execution_count": 84,
      "outputs": [
        {
          "output_type": "error",
          "ename": "ValueError",
          "evalue": "ignored",
          "traceback": [
            "\u001b[0;31m---------------------------------------------------------------------------\u001b[0m",
            "\u001b[0;31mValueError\u001b[0m                                Traceback (most recent call last)",
            "\u001b[0;32m<ipython-input-84-ea778bf9010f>\u001b[0m in \u001b[0;36m<module>\u001b[0;34m()\u001b[0m\n\u001b[0;32m----> 1\u001b[0;31m \u001b[0mshow\u001b[0m\u001b[0;34m(\u001b[0m\u001b[0mCalles1\u001b[0m\u001b[0;34m,\u001b[0m \u001b[0mdirigido\u001b[0m\u001b[0;34m=\u001b[0m\u001b[0;32mTrue\u001b[0m\u001b[0;34m,\u001b[0m \u001b[0mpeso\u001b[0m\u001b[0;34m=\u001b[0m\u001b[0;32mTrue\u001b[0m\u001b[0;34m,\u001b[0m \u001b[0mlabels\u001b[0m\u001b[0;34m=\u001b[0m\u001b[0mlabels\u001b[0m\u001b[0;34m,\u001b[0m \u001b[0mlayout\u001b[0m\u001b[0;34m=\u001b[0m\u001b[0;34m\"dot\"\u001b[0m\u001b[0;34m)\u001b[0m\u001b[0;34m\u001b[0m\u001b[0;34m\u001b[0m\u001b[0m\n\u001b[0m",
            "\u001b[0;32m<ipython-input-83-a70c2f290394>\u001b[0m in \u001b[0;36mshow\u001b[0;34m(Grafo, labels, dirigido, peso, path, layout)\u001b[0m\n\u001b[1;32m     31\u001b[0m   \u001b[0;32mif\u001b[0m \u001b[0mpeso\u001b[0m\u001b[0;34m:\u001b[0m\u001b[0;34m\u001b[0m\u001b[0;34m\u001b[0m\u001b[0m\n\u001b[1;32m     32\u001b[0m     \u001b[0;32mfor\u001b[0m \u001b[0mfila\u001b[0m \u001b[0;32min\u001b[0m \u001b[0mrange\u001b[0m\u001b[0;34m(\u001b[0m\u001b[0mn\u001b[0m\u001b[0;34m)\u001b[0m\u001b[0;34m:\u001b[0m\u001b[0;34m\u001b[0m\u001b[0;34m\u001b[0m\u001b[0m\n\u001b[0;32m---> 33\u001b[0;31m       \u001b[0;32mfor\u001b[0m \u001b[0mcolumna\u001b[0m\u001b[0;34m,\u001b[0m \u001b[0mespacio\u001b[0m \u001b[0;32min\u001b[0m \u001b[0mGrafo\u001b[0m\u001b[0;34m[\u001b[0m\u001b[0mfila\u001b[0m\u001b[0;34m]\u001b[0m\u001b[0;34m:\u001b[0m\u001b[0;34m\u001b[0m\u001b[0;34m\u001b[0m\u001b[0m\n\u001b[0m\u001b[1;32m     34\u001b[0m         \u001b[0;32mif\u001b[0m \u001b[0;32mnot\u001b[0m \u001b[0mdirigido\u001b[0m \u001b[0;32mand\u001b[0m \u001b[0;32mnot\u001b[0m \u001b[0;34mf\"{fila}->{columna}\"\u001b[0m \u001b[0;32min\u001b[0m \u001b[0madded\u001b[0m\u001b[0;34m:\u001b[0m\u001b[0;34m\u001b[0m\u001b[0;34m\u001b[0m\u001b[0m\n\u001b[1;32m     35\u001b[0m           \u001b[0madded\u001b[0m\u001b[0;34m.\u001b[0m\u001b[0madd\u001b[0m\u001b[0;34m(\u001b[0m\u001b[0;34mf\"{fila}->{columna}\"\u001b[0m\u001b[0;34m)\u001b[0m\u001b[0;34m\u001b[0m\u001b[0;34m\u001b[0m\u001b[0m\n",
            "\u001b[0;31mValueError\u001b[0m: too many values to unpack (expected 2)"
          ]
        }
      ]
    },
    {
      "cell_type": "code",
      "source": [
        ""
      ],
      "metadata": {
        "id": "pVNryRc09DCI"
      },
      "execution_count": null,
      "outputs": []
    }
  ]
}